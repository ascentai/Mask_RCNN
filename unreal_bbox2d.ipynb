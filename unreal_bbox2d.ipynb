{
 "cells": [
  {
   "cell_type": "markdown",
   "metadata": {},
   "source": [
    "### Mask R-CNN on Unreal Dataset\n",
    "\n",
    "This notebook is used to demonstrate the applicaiton of Mask R-CNN to simulation images from the unreal engine."
   ]
  },
  {
   "cell_type": "code",
   "execution_count": 1,
   "metadata": {},
   "outputs": [
    {
     "name": "stderr",
     "output_type": "stream",
     "text": [
      "/home/naoki/miniconda3/envs/mrcnn_unreal/lib/python3.5/site-packages/h5py/__init__.py:36: FutureWarning: Conversion of the second argument of issubdtype from `float` to `np.floating` is deprecated. In future, it will be treated as `np.float64 == np.dtype(float).type`.\n",
      "  from ._conv import register_converters as _register_converters\n",
      "Using TensorFlow backend.\n"
     ]
    }
   ],
   "source": [
    "import os, argparse\n",
    "import numpy as np\n",
    "import model as modellib # Mask RCNN\n",
    "from tqdm import tqdm\n",
    "from unreal_config  import UnrealConfig\n",
    "from unreal_dataset import UnrealDataset\n",
    "from unreal_utils   import MODEL_DIR, limit_GPU_usage, compute_mean_AP\n",
    "from pathlib import Path\n",
    "\n",
    "%matplotlib inline "
   ]
  },
  {
   "cell_type": "code",
   "execution_count": 2,
   "metadata": {},
   "outputs": [],
   "source": [
    "HOME_DIR = str(Path.home())\n",
    "\n",
    "OBJECT_DESC_PATH = '{}/datasets/unreal/unreal dataset 2/objects_description.json'.format(HOME_DIR)\n",
    "IMAGES_PATH      = '{}/datasets/unreal/unreal dataset 2/images'.format(HOME_DIR)\n",
    "\n",
    "WEIGHT_PATH='unreal_model_weights.h5'\n",
    "\n",
    "limit_GPU_usage()\n",
    "\n",
    "class InferenceConfig(UnrealConfig):\n",
    "    GPU_COUNT = 1\n",
    "    IMAGES_PER_GPU = 1  \n",
    "config = InferenceConfig()\n",
    "\n",
    "model = modellib.MaskRCNN(mode=\"inference\", model_dir=MODEL_DIR, config=config)\n",
    "model.load_weights(WEIGHT_PATH, by_name=True)"
   ]
  },
  {
   "cell_type": "code",
   "execution_count": 3,
   "metadata": {},
   "outputs": [],
   "source": [
    "def generate_bbox2d(object_desc_path, images_path, data_dir):\n",
    "    dataset = UnrealDataset()\n",
    "    dataset.populate(object_desc_path, images_path)\n",
    "    dataset.prepare()\n",
    "    \n",
    "    class_names = ['', 'people', 'car']\n",
    "    for image_id in tqdm(dataset.image_ids):\n",
    "        # Load image and ground truth data\n",
    "        result = modellib.load_image_gt(dataset, config, image_id, use_mini_mask=False)\n",
    "        if len(result)==5:\n",
    "            image, image_meta, class_ids, gt_bbox, gt_mask = result\n",
    "        else:\n",
    "            image, image_meta, gt_bbox, gt_mask = result\n",
    "            class_ids = gt_bbox[:,4]\n",
    "            gt_bbox = gt_bbox[:, :4]\n",
    "        molded_images = np.expand_dims(modellib.mold_image(image, config), 0)\n",
    "        # Run object detection\n",
    "        results = model.detect([image], verbose=0)\n",
    "        r = results[0]\n",
    "        npz_file = '{}{}{}'.format(\n",
    "            data_dir, os.sep, dataset.image_reference(image_id).split(os.sep)[-1].replace('.png', '.npz'))        \n",
    "        np.savez_compressed(npz_file, \n",
    "                            rois=r['rois'], \n",
    "                            class_ids=r['class_ids'], \n",
    "                            class_names=class_names, # TODO not very efficient\n",
    "                            scores=r['scores'], \n",
    "                            masks=r['masks'])    "
   ]
  },
  {
   "cell_type": "code",
   "execution_count": 4,
   "metadata": {},
   "outputs": [
    {
     "name": "stderr",
     "output_type": "stream",
     "text": [
      "100%|██████████| 500/500 [08:40<00:00,  1.04s/it]\n"
     ]
    }
   ],
   "source": [
    "generate_bbox2d(OBJECT_DESC_PATH, IMAGES_PATH, 'data')"
   ]
  },
  {
   "cell_type": "code",
   "execution_count": null,
   "metadata": {},
   "outputs": [],
   "source": []
  }
 ],
 "metadata": {
  "kernelspec": {
   "display_name": "Python 3",
   "language": "python",
   "name": "python3"
  },
  "language_info": {
   "codemirror_mode": {
    "name": "ipython",
    "version": 3
   },
   "file_extension": ".py",
   "mimetype": "text/x-python",
   "name": "python",
   "nbconvert_exporter": "python",
   "pygments_lexer": "ipython3",
   "version": "3.5.4"
  }
 },
 "nbformat": 4,
 "nbformat_minor": 2
}
